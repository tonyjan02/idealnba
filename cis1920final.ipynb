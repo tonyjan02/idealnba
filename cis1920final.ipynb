{
  "nbformat": 4,
  "nbformat_minor": 0,
  "metadata": {
    "colab": {
      "provenance": [],
      "authorship_tag": "ABX9TyOApjvNUSGNDTaYE15VHtvL",
      "include_colab_link": true
    },
    "kernelspec": {
      "name": "python3",
      "display_name": "Python 3"
    },
    "language_info": {
      "name": "python"
    }
  },
  "cells": [
    {
      "cell_type": "markdown",
      "metadata": {
        "id": "view-in-github",
        "colab_type": "text"
      },
      "source": [
        "<a href=\"https://colab.research.google.com/github/tonyjan02/idealnba/blob/main/cis1920final.ipynb\" target=\"_parent\"><img src=\"https://colab.research.google.com/assets/colab-badge.svg\" alt=\"Open In Colab\"/></a>"
      ]
    },
    {
      "cell_type": "markdown",
      "source": [
        "Imports"
      ],
      "metadata": {
        "id": "bSnnByezi9VR"
      }
    },
    {
      "cell_type": "code",
      "source": [
        "# importing necessary libraries\n",
        "import json\n",
        "import pandas as pd\n",
        "import numpy as np\n",
        "import datetime as dt\n",
        "import matplotlib.pyplot as plt\n",
        "import seaborn as sns\n",
        "from matplotlib import cm\n",
        "from google.colab import drive\n",
        "from sklearn.model_selection import train_test_split"
      ],
      "metadata": {
        "id": "j84eS7pXi-8a"
      },
      "execution_count": null,
      "outputs": []
    },
    {
      "cell_type": "markdown",
      "source": [
        "Data Pre-processing/Cleaning"
      ],
      "metadata": {
        "id": "w44MHfeNhUqz"
      }
    },
    {
      "cell_type": "code",
      "source": [],
      "metadata": {
        "id": "kFqZJk7ghgU1"
      },
      "execution_count": null,
      "outputs": []
    },
    {
      "cell_type": "markdown",
      "source": [
        "Creating ML Model"
      ],
      "metadata": {
        "id": "WkK7-nGkhae9"
      }
    },
    {
      "cell_type": "code",
      "source": [],
      "metadata": {
        "id": "60c7h8Mchguv"
      },
      "execution_count": null,
      "outputs": []
    },
    {
      "cell_type": "markdown",
      "source": [
        "Tuning Model"
      ],
      "metadata": {
        "id": "yaZ_J_zhhbWn"
      }
    },
    {
      "cell_type": "code",
      "source": [],
      "metadata": {
        "id": "xAjl-776hg_v"
      },
      "execution_count": null,
      "outputs": []
    },
    {
      "cell_type": "markdown",
      "source": [
        "Presenting Findings"
      ],
      "metadata": {
        "id": "knW-3bIehfPI"
      }
    },
    {
      "cell_type": "code",
      "source": [],
      "metadata": {
        "id": "ORO55wq9hhPC"
      },
      "execution_count": null,
      "outputs": []
    }
  ]
}